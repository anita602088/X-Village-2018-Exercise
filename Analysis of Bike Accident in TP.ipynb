{
 "cells": [
  {
   "cell_type": "code",
   "execution_count": 4,
   "metadata": {},
   "outputs": [],
   "source": [
    "#from __future__ import division\n",
    "\n",
    "#import datetime\n",
    "import itertools\n",
    "import json\n",
    "import requests\n",
    "# from requests_html import HTMLSession\n",
    "#import operator\n",
    "\n",
    "\n",
    "import matplotlib.pyplot as plt\n",
    "import numpy as np\n",
    "import pandas as pd\n",
    "import pylab\n",
    "#import scipy.stats\n",
    "#import statsmodels.api as sm\n",
    "\n",
    "%matplotlib inline\n"
   ]
  },
  {
   "cell_type": "code",
   "execution_count": 5,
   "metadata": {},
   "outputs": [],
   "source": [
    "url_6 = 'http://data.taipei/opendata/datalist/datasetMeta/download?id=2f238b4f-1b27-4085-93e9-d684ef0e2735&rid=1948cf36-2df1-4e98-95d7-152d30193d3c'\n",
    "data_6 = pd.read_csv(url_6, encoding='big5')\n",
    "\n",
    "url_5 = 'http://data.taipei/opendata/datalist/datasetMeta/download?id=2f238b4f-1b27-4085-93e9-d684ef0e2735&rid=91fbb8c2-4316-44ac-a101-e7b7ff3ba450'\n",
    "data_5 = pd.read_csv(url_5, encoding='big5')\n",
    "\n",
    "url_4 = 'C:/Users/user/Downloads/104a1a2.csv'\n",
    "data_4 = pd.read_csv(url_4, encoding='utf-8')\n",
    "\n",
    "url_3 = 'http://data.taipei/opendata/datalist/datasetMeta/download?id=2f238b4f-1b27-4085-93e9-d684ef0e2735&rid=5b31590b-1af7-4fed-ac25-6190178acfb5'\n",
    "data_3 = pd.read_csv(url_3, encoding='big5')\n",
    "\n",
    "url_2 = 'http://data.taipei/opendata/datalist/datasetMeta/download?id=2f238b4f-1b27-4085-93e9-d684ef0e2735&rid=c7fc1411-a8f0-4258-9f66-e16e58dd2cdd'\n",
    "data_2 = pd.read_csv(url_2, encoding='big5')\n",
    "\n",
    "url_1 = 'http://data.taipei/opendata/datalist/datasetMeta/download?id=2f238b4f-1b27-4085-93e9-d684ef0e2735&rid=dbc05cbf-cced-4793-84e8-fda5f67200da'\n",
    "data_1 = pd.read_csv(url_1, encoding='big5')\n"
   ]
  },
  {
   "cell_type": "code",
   "execution_count": 45,
   "metadata": {
    "scrolled": true
   },
   "outputs": [
    {
     "name": "stdout",
     "output_type": "stream",
     "text": [
      "    年份   車禍數量  自行車車禍案件\n",
      "0  101  45950     1073\n",
      "1  102  47705     1196\n",
      "2  103  49135     1283\n",
      "3  104  49519     1217\n",
      "4  105  51692     1277\n",
      "5  106  50951     1189\n"
     ]
    }
   ],
   "source": [
    "#自行車車禍數量\n",
    "bike_6 = data_6[\"車種\"] == \"F01\"\n",
    "bike_5 = data_5[\"車種\"] == \"F01\"\n",
    "bike_4 = data_4[\"車種\"] == \"F01\"\n",
    "bike_3 = data_3[\"車種\"] == \"F01\"\n",
    "bike_2 = data_2[\"車種\"] == \"F01\"\n",
    "bike_1 = data_1[\"車種\"] == \"F01\"\n",
    "# print(data_6.loc[bike_6])\n",
    "# print\n",
    "\n",
    "list_a = [len(data_1[bike_1]),len(data_2[bike_2]),len(data_3[bike_3]),len(data_4[bike_4]),len(data_5[bike_5]),len(data_6[bike_6])]\n",
    "list_t = [len(data_1),len(data_2),len(data_3),len(data_4),len(data_5),len(data_6)]\n",
    "data = ['101','102','103','104','105','106']\n",
    "dict_t = {\"年份\":data,'車禍數量':list_t}\n",
    "dict_a = {\"年份\":data,\"自行車車禍案件\":list_a}\n",
    "\n",
    "df_t = pd.DataFrame(dict_t)\n",
    "df_a = pd.DataFrame(dict_a)\n",
    "result = df_t.merge(df_a)\n",
    "\n",
    "print(result)"
   ]
  },
  {
   "cell_type": "code",
   "execution_count": 50,
   "metadata": {},
   "outputs": [
    {
     "name": "stdout",
     "output_type": "stream",
     "text": [
      "       發生年  發生月  發生日  發生時  發生分  處理別     區序                          肇事地點  \\\n",
      "0      106    1    3    8   58    2  01大同區                     大同區大龍街85巷   \n",
      "12     106    1   13    9   20    2  01大同區                  大同區長安西路與塔城街口   \n",
      "62     106    2   16   19   20    2  01大同區           大同區通河西街1段明倫高中後方堤外便道   \n",
      "87     106    9   11    9   48    2  01大同區                大同區延平北路2段與保安街口   \n",
      "93     106    4   12    8   50    2  01大同區                   大同區南京西路310號   \n",
      "122    106    2    2   22   54    2  01大同區         南京西路與塔城街口(南京西路259號附近)   \n",
      "150    106    1   22   10   30    2  01大同區                大同區民族西路與承德路3段口   \n",
      "203    106    3   14   19   15    2  01大同區                   大同區民生西路292號   \n",
      "447    106    8    2   17    8    2  01大同區                    大同區歸綏街237號   \n",
      "513    106   10   14   23   25    2  01大同區                 大同區承德路2段與錦西街口   \n",
      "536    106    7   25    0   25    2  01大同區                大同區忠孝西路2段與塔城街口   \n",
      "540    106    8    7    7   28    2  01大同區             大同區民權西路與民權西路133巷口   \n",
      "614    106    5   15   21   48    2  01大同區                  大同區承德路2段168號   \n",
      "714    106    4   23    4   30    2  01大同區                  大同區承德路3段190巷   \n",
      "874    106    7   29   10   51    2  01大同區       大同區重慶北路3段320號與重慶北路3段口對面   \n",
      "921    106    5   19   15   30    2  01大同區                大同區南京西路與迪化街1段口   \n",
      "999    106    5   13    8   18    2  01大同區               大同區重慶北路2段與民生西路口   \n",
      "1090   106    6   24    8   50    2  01大同區                大同區大稻埕堤外便道自行車道   \n",
      "1175   106    1    2   12    0    2  01大同區                  大同區民權西路與蘭州街口   \n",
      "1276   106    7   24    9   38    2  01大同區                    大同區南京西路30號   \n",
      "1311   106    1   21   16   17    2  01大同區                    大同區南京西路36號   \n",
      "1500   106    6    7   13    0    2  01大同區                大同區台北橋機車道往東下橋處   \n",
      "1539   106    7    6    8   41    2  01大同區                   大同區民權西路136號   \n",
      "1664   106    7   13    8    6    2  01大同區      大同區民權西路114巷19弄與民權西路114巷口   \n",
      "1675   106   12   14   19    0    2  01大同區                   大同區昌吉街與大龍街口   \n",
      "1711   106    7    1   10   35    2  01大同區               大同區環河北路2段與民族西路口   \n",
      "1746   106    9   28   21   16    2  01大同區                  大同區承德橋南往北上橋處   \n",
      "1805   106    8    7   18   50    2  01大同區     大同區延平北路4段294巷與延平北路4段282巷口   \n",
      "1853   106    9    8    0   25    2  01大同區          大同區忠孝西路2段與忠孝橋口往三重上橋處   \n",
      "2089   106   10   27   21   20    2  01大同區                 大同區西寧北路與長安西路口   \n",
      "...    ...  ...  ...  ...  ...  ...    ...                           ...   \n",
      "49871  106   10   23   16   48    2  07信義區                     信義區松勤街92號   \n",
      "49881  106   10   22    9    5    2  07信義區                    信義區吳興街243號   \n",
      "49914  106   11    7    8   20    2  07信義區                信義區松仁路95巷與松仁路口   \n",
      "49933  106   10   13    9   55    2  07信義區                  信義區富陽街72巷24號   \n",
      "49988  106   10   23   16    5    2  07信義區               信義區松山路465巷與松山路口   \n",
      "50014  106   10   27    6   57    2  07信義區              信義區吳興街與吳興街284巷口口   \n",
      "50032  106   11   30    9   19    2  07信義區      忠孝東路5段與大道路口(忠孝東路5段733號前)   \n",
      "50040  106   10    7    8    2    2  07信義區                    信義區莊敬路168號   \n",
      "50057  106   10   16    7   50    2  07信義區               信義區嘉興街175巷與嘉興街口   \n",
      "50115  106   11    8    8   20    2  07信義區               信義區吳興街269巷與吳興街口   \n",
      "50251  106   10    1   15   42    2  07信義區                 信義區和平東路3段461號   \n",
      "50330  106   11   25   21   38    2  07信義區             信義區基隆路2段與和平東路3段口口   \n",
      "50362  106   11    9    7   30    2  07信義區                 信義區逸仙路與仁愛路4段口   \n",
      "50374  106   12    1    6    3    2  07信義區               信義區吳興街220巷與吳興街口   \n",
      "50386  106   12    6   19    9    2  07信義區               信義區福德街137巷與福德街口   \n",
      "50520  106   12   11   18   39    2  07信義區                   信義區崇德街與富陽街口   \n",
      "50521  106   12   11   18   39    2  07信義區                   信義區崇德街與富陽街口   \n",
      "50522  106   12   11   18   39    2  07信義區                   信義區崇德街與富陽街口   \n",
      "50523  106   12   11   18   39    2  07信義區                   信義區崇德街與富陽街口   \n",
      "50544  106   11   20    5   40    2  07信義區             信義區松勤街與信義路5段150巷口   \n",
      "50554  106   12   15   11   35    2  07信義區               信義區虎林街202巷與松德路口   \n",
      "50571  106   12   18    2   50    2  07信義區                信義區基隆路2段131-2號   \n",
      "50583  106   12   14    9   30    2  07信義區               信義區松德路200巷與松德路口   \n",
      "50664  106   11   25   22   58    2  07信義區                信義區市民大道6段與松山路口   \n",
      "50684  106   12   14   11   50    2  07信義區                    信義區松山路453號   \n",
      "50701  106   12   12    8   55    2  07信義區                信義區基隆路2段與光復南路口   \n",
      "50822  106   12   12   19   15    2  07信義區                    信義區嘉興街225號   \n",
      "50836  106   12    8   21   38    2  07信義區         信義區和平東路3段632巷與和平東路3段口   \n",
      "50863  106   12   22    8   30    2  07信義區  信義區忠孝東路5段790巷與忠孝東路5段790巷62弄口   \n",
      "50918  106   12   23    0   10    2  07信義區                信義區福德街84巷與福德街口   \n",
      "\n",
      "       死亡人數  受傷人數  當事人序   車種  性別   年齡  受傷程度  4天候  7速限  8道路型態  9事故位置  \n",
      "0         0     1     1  F01   2   70   2.0    8   50     14      9  \n",
      "12        0     1     1  F01   1  106   4.0    6    0      4      2  \n",
      "62        0     2     2  F01   1   75   2.0    8   30      3      1  \n",
      "87        0     1     2  F01   1   18   2.0    8   50      3      1  \n",
      "93        0     1     2  F01   2   64   2.0    8   50     14      9  \n",
      "122       0     1     2  F01   1    9   2.0    8    0      4      2  \n",
      "150       0     1     1  F01   1   25   2.0    8   50      4      2  \n",
      "203       0     1     2  F01   2   63   2.0    7   50     14      9  \n",
      "447       0     1     1  F01   2   60   2.0    8   50     14      9  \n",
      "513       0     1     2  F01   2   24   2.0    6   50      5      2  \n",
      "536       0     1     2  F01   2   35   2.0    8   50      4      2  \n",
      "540       0     1     2  F01   2   54   2.0    8   50      3      2  \n",
      "614       0     2     2  F01   1   63   2.0    6   50     14      9  \n",
      "714       0     1     1  F01   1  106   4.0    8   50     14      9  \n",
      "874       0     1     1  F01   1   84   2.0    8   50      4      2  \n",
      "921       0     1     1  F01   2   61   2.0    6   50      4      1  \n",
      "999       0     1     2  F01   2   54   2.0    7   50      4      1  \n",
      "1090      0     1     1  F01   1   69   2.0    8    0     14     22  \n",
      "1175      0     3     1  F01   1   11   2.0    8   50      4      1  \n",
      "1276      0     2     1  F01   2   26   2.0    8   20     14     20  \n",
      "1311      0     1     2  F01   1   77   2.0    7   50     14      9  \n",
      "1500      0     1     2  F01   2   45   2.0    8   40      8     11  \n",
      "1539      0     1     1  F01   1   17   3.0    8   50     14      9  \n",
      "1664      0     1     2  F01   1   31   3.0    8   30      4      1  \n",
      "1675      0     1     1  F01   1   60   3.0    8    0     14      9  \n",
      "1711      0     2     2  F01   1   13   2.0    8   50      3      2  \n",
      "1746      0     1     2  F01   2   64   2.0    8   40     14      8  \n",
      "1805      0     2     1  F01   2   15   2.0    7   50      5      2  \n",
      "1853      0     2     2  F01   2   28   2.0    8   50      8     11  \n",
      "2089      0     1     2  F01   2   26   2.0    7   50      4      1  \n",
      "...     ...   ...   ...  ...  ..  ...   ...  ...  ...    ...    ...  \n",
      "49871     0     1     2  F01   2   63   2.0    8   40     14      9  \n",
      "49881     0     1     2  F01   1   66   2.0    8   50     14      9  \n",
      "49914     0     1     2  F01   1   35   2.0    7   50      3      1  \n",
      "49933     0     1     2  F01   2   69   2.0    6   40     14      9  \n",
      "49988     0     1     2  F01   1   38   3.0    8   50      4      2  \n",
      "50014     0     1     2  F01   1   58   2.0    8   40      4      1  \n",
      "50032     0     1     1  F01   2   63   2.0    6   50      5      2  \n",
      "50040     0     1     1  F01   2   29   2.0    8   40     14      9  \n",
      "50057     0     1     1  F01   1   76   2.0    8   30      4      1  \n",
      "50115     0     1     2  F01   2   77   2.0    6   30      4      1  \n",
      "50251     0     1     2  F01   1   34   2.0    8   50     11      9  \n",
      "50330     0     1     2  F01   2   44   2.0    6   50      5      1  \n",
      "50362     0     1     2  F01   1   54   2.0    7   50      4      2  \n",
      "50374     0     1     2  F01   1   72   2.0    6   50      4      1  \n",
      "50386     0     1     2  F01   2   70   2.0    6   50      3      1  \n",
      "50520     0     1     4  F01   3    0   NaN    8   50      4      1  \n",
      "50521     0     1     5  F01   3    0   NaN    8   50      4      1  \n",
      "50522     0     1     6  F01   3    0   NaN    8   50      4      1  \n",
      "50523     0     1     7  F01   3    0   NaN    8   50      4      1  \n",
      "50544     0     1     1  F01   1   80   2.0    6   50     15      9  \n",
      "50554     0     1     1  F01   1   77   2.0    8    0      4      1  \n",
      "50571     0     1     2  F01   1   20   2.0    6   50     14      9  \n",
      "50583     0     1     2  F01   1   24   2.0    8   50      3      1  \n",
      "50664     0     1     1  F01   2   29   2.0    6    0      4      1  \n",
      "50684     0     1     2  F01   2   76   2.0    8   50     14      9  \n",
      "50701     0     1     2  F01   2   19   2.0    6   50      4      2  \n",
      "50822     0     1     1  F01   2   73   2.0    6   40     14      8  \n",
      "50836     0     2     2  F01   2   64   3.0    6   30      3      2  \n",
      "50863     0     1     2  F01   2   58   2.0    8   30      4      2  \n",
      "50918     0     1     2  F01   2   70   2.0    8   30      4      1  \n",
      "\n",
      "[1189 rows x 19 columns]\n"
     ]
    }
   ],
   "source": [
    "print(data_6.loc[bike_6])"
   ]
  },
  {
   "cell_type": "code",
   "execution_count": 30,
   "metadata": {},
   "outputs": [
    {
     "name": "stderr",
     "output_type": "stream",
     "text": [
      "C:\\ProgramData\\Anaconda3\\lib\\site-packages\\matplotlib\\font_manager.py:1328: UserWarning: findfont: Font family ['sans-serif'] not found. Falling back to DejaVu Sans\n",
      "  (prop.get_family(), self.defaultFamily[fontext]))\n"
     ]
    },
    {
     "data": {
      "image/png": "[encoded data removed]",
      "text/plain": [
       "<Figure size 432x288 with 1 Axes>"
      ]
     },
     "metadata": {},
     "output_type": "display_data"
    }
   ],
   "source": [
    "#自行車車禍數量\n",
    "\n",
    "%matplotlib inline\n",
    "import matplotlib.pyplot as plt\n",
    "import numpy as np\n",
    "\n",
    "y1 = list_a\n",
    "x1 = ['101年','102年','103年','104年','105年','106年']\n",
    "plt.xlabel(\"Years\")\n",
    "plt.ylabel(\"Number\")\n",
    "plt.title('Number of Bicycle Accidents')\n",
    "\n",
    "plt.bar(x1,y1,color = \"c\")\n",
    "plt.show()"
   ]
  },
  {
   "cell_type": "code",
   "execution_count": 16,
   "metadata": {},
   "outputs": [
    {
     "data": {
      "text/plain": [
       "<matplotlib.legend.Legend at 0x1eac78cdc88>"
      ]
     },
     "execution_count": 16,
     "metadata": {},
     "output_type": "execute_result"
    },
    {
     "data": {
      "image/png": "[encoded data removed]",
      "text/plain": [
       "<Figure size 432x288 with 1 Axes>"
      ]
     },
     "metadata": {},
     "output_type": "display_data"
    }
   ],
   "source": [
    "xs = list_a\n",
    "ys = list_t\n",
    "# np.corrcoef(list_a,list_t)\n",
    "plt.scatter(list_a,list_t)\n",
    "\n",
    "def slope(x_val,y_val):\n",
    "    x = np.array(x_val)\n",
    "    y = np.array(y_val)\n",
    "    m = (((np.mean(x)*np.mean(y))-np.mean(x*y))/((np.mean(x)*np.mean(x))-np.mean(x*x)))\n",
    "    m = round(m,2)\n",
    "    b = (np.mean(y)-np.mean(x)*m)\n",
    "    b = round(b,2)\n",
    "    return m,b\n",
    "m,b = slope(xs,ys)\n",
    "\n",
    "reg_line = [(m*x)+b for x in xs]\n",
    "plt.xlabel('Number of Bike Accident')\n",
    "plt.ylabel('Number of Traffic Accident')\n",
    "\n",
    "plt.plot(xs,reg_line,color = \"r\",label='Correlation Coefficient Map')\n",
    "plt.legend(loc='best')\n",
    "# plt.show()"
   ]
  },
  {
   "cell_type": "code",
   "execution_count": 35,
   "metadata": {},
   "outputs": [
    {
     "name": "stderr",
     "output_type": "stream",
     "text": [
      "C:\\ProgramData\\Anaconda3\\lib\\site-packages\\matplotlib\\font_manager.py:1328: UserWarning: findfont: Font family ['sans-serif'] not found. Falling back to DejaVu Sans\n",
      "  (prop.get_family(), self.defaultFamily[fontext]))\n"
     ]
    },
    {
     "data": {
      "image/png": "[encoded data removed]",
      "text/plain": [
       "<Figure size 432x288 with 1 Axes>"
      ]
     },
     "metadata": {},
     "output_type": "display_data"
    }
   ],
   "source": [
    "# 导入绘图模块\n",
    "import matplotlib.pyplot as plt\n",
    "# 构建数据\n",
    "GDP = [12406.8,13908.57,9386.87,9143.64]\n",
    "\n",
    "# 中文乱码的处理\n",
    "plt.rcParams['font.sans-serif'] = ['Microsoft YaHei']\n",
    "plt.rcParams['axes.unicode_minus'] = False\n",
    "\n",
    "# 绘图\n",
    "plt.bar(range(4), GDP, align = 'center',color='steelblue', alpha = 0.8)\n",
    "# 添加轴标签\n",
    "plt.ylabel('GDP')\n",
    "# 添加标题\n",
    "plt.title('四个直辖市GDP大比拼')\n",
    "# 添加刻度标签\n",
    "plt.xticks(range(4),['北京市','上海市','天津市','重庆市'])\n",
    "# 设置Y轴的刻度范围\n",
    "plt.ylim([5000,15000])\n",
    "\n",
    "# 为每个条形图添加数值标签\n",
    "for x,y in enumerate(GDP):\n",
    "    plt.text(x,y+100,'%s' %round(y,1),ha='center')\n",
    "    \n",
    "# 显示图形\n",
    "plt.show()"
   ]
  },
  {
   "cell_type": "code",
   "execution_count": 17,
   "metadata": {},
   "outputs": [
    {
     "name": "stdout",
     "output_type": "stream",
     "text": [
      "        月份    租借次數(車次)\n",
      "0   103年3月     1767106\n",
      "1   103年4月     1938518\n",
      "2   104年3月     2065266\n",
      "3   104年4月     1662426\n",
      "4   105年3月     1242340\n",
      "5   105年4月     1582565\n",
      "6   106年3月     1719024\n",
      "7   106年4月     1900724\n",
      "8   107年3月     2191938\n",
      "9   107年4月     2221447\n"
     ]
    }
   ],
   "source": [
    "url = 'C:/Users/user/Desktop/ubike_num.csv'\n",
    "num = pd.read_csv(url, encoding = 'big5')\n",
    "# location = num.groupby('租借次數(車次)').size()\n",
    "num.dropna()\n",
    "# a = num.get(\"租借次數(車次)\")\n",
    "# print(a)\n",
    "# print(num)\n",
    "n = num.iloc[0:9,1]\n",
    "m = num.iloc[0:9,0]\n",
    "total = num.iloc[:]\n",
    "\n",
    "series_n =  pd.Series(n)\n",
    "series_m = pd.Series(m)\n",
    "\n",
    "print(total)\n"
   ]
  },
  {
   "cell_type": "code",
   "execution_count": 24,
   "metadata": {
    "scrolled": false
   },
   "outputs": [
    {
     "name": "stderr",
     "output_type": "stream",
     "text": [
      "C:\\ProgramData\\Anaconda3\\lib\\site-packages\\matplotlib\\font_manager.py:1328: UserWarning: findfont: Font family ['sans-serif'] not found. Falling back to DejaVu Sans\n",
      "  (prop.get_family(), self.defaultFamily[fontext]))\n"
     ]
    },
    {
     "data": {
      "image/png": "[encoded data removed]",
      "text/plain": [
       "<Figure size 432x288 with 1 Axes>"
      ]
     },
     "metadata": {},
     "output_type": "display_data"
    }
   ],
   "source": [
    "%matplotlib inline\n",
    "import matplotlib.pyplot as plt\n",
    "import numpy as np\n",
    "y1 = series_n\n",
    "x1 = series_m\n",
    "plt.xlabel(\"Date\")\n",
    "plt.ylabel(\"Number\")\n",
    "# plt.rcParams['font.sans-serif']=['SimHei']\n",
    "\n",
    "\n",
    "\n",
    "plt.plot(x1,y1)\n",
    "plt.show()\n"
   ]
  },
  {
   "cell_type": "code",
   "execution_count": 1,
   "metadata": {},
   "outputs": [
    {
     "data": {
      "text/plain": [
       "'C:\\\\ProgramData\\\\Anaconda3\\\\lib\\\\site-packages\\\\matplotlib\\\\mpl-data\\\\matplotlibrc'"
      ]
     },
     "execution_count": 1,
     "metadata": {},
     "output_type": "execute_result"
    }
   ],
   "source": [
    "import matplotlib\n",
    "matplotlib.matplotlib_fname()"
   ]
  },
  {
   "cell_type": "code",
   "execution_count": 32,
   "metadata": {},
   "outputs": [
    {
     "name": "stdout",
     "output_type": "stream",
     "text": [
      "[2485, 2400, 2238, 2152, 2362, 2253]\n"
     ]
    }
   ],
   "source": [
    "ped_6 = data_6[\"車種\"] == \"H01\"\n",
    "ped_5 = data_5[\"車種\"] == \"H01\"\n",
    "ped_4 = data_4[\"車種\"] == \"H01\"\n",
    "ped_3 = data_3[\"車種\"] == \"H01\"\n",
    "ped_2 = data_2[\"車種\"] == \"H01\"\n",
    "ped_1 = data_1[\"車種\"] == \"H01\"\n",
    "\n",
    "b6 = len(data_6[ped_6])\n",
    "b5 = len(data_5[ped_5])\n",
    "b4 = len(data_4[ped_4])\n",
    "b3 = len(data_3[ped_3])\n",
    "b2 = len(data_2[ped_2])\n",
    "b1 = len(data_1[ped_1])\n",
    "\n",
    "list_b = [b1,b2,b3,b4,b5,b6]\n",
    "\n",
    "print(list_b)"
   ]
  },
  {
   "cell_type": "code",
   "execution_count": 33,
   "metadata": {
    "scrolled": true
   },
   "outputs": [
    {
     "data": {
      "image/png": "[encoded data removed]",
      "text/plain": [
       "<Figure size 432x288 with 1 Axes>"
      ]
     },
     "metadata": {},
     "output_type": "display_data"
    }
   ],
   "source": [
    "%matplotlib inline\n",
    "import matplotlib.pyplot as plt\n",
    "import numpy as np\n",
    "y1 = list_b\n",
    "x1 = ['101','102','103','104','105','106']\n",
    "plt.bar(x1,y1,color = \"pink\")\n",
    "plt.show()"
   ]
  },
  {
   "cell_type": "code",
   "execution_count": 41,
   "metadata": {},
   "outputs": [
    {
     "data": {
      "text/html": [
       "<div>\n",
       "<style scoped>\n",
       "    .dataframe tbody tr th:only-of-type {\n",
       "        vertical-align: middle;\n",
       "    }\n",
       "\n",
       "    .dataframe tbody tr th {\n",
       "        vertical-align: top;\n",
       "    }\n",
       "\n",
       "    .dataframe thead th {\n",
       "        text-align: right;\n",
       "    }\n",
       "</style>\n",
       "<table border=\"1\" class=\"dataframe\">\n",
       "  <thead>\n",
       "    <tr style=\"text-align: right;\">\n",
       "      <th></th>\n",
       "      <th>F01</th>\n",
       "      <th>H01</th>\n",
       "    </tr>\n",
       "  </thead>\n",
       "  <tbody>\n",
       "    <tr>\n",
       "      <th>0</th>\n",
       "      <td>1189.0</td>\n",
       "      <td>2253.0</td>\n",
       "    </tr>\n",
       "    <tr>\n",
       "      <th>1</th>\n",
       "      <td>1277.0</td>\n",
       "      <td>2362.0</td>\n",
       "    </tr>\n",
       "    <tr>\n",
       "      <th>2</th>\n",
       "      <td>1283.0</td>\n",
       "      <td>2238.0</td>\n",
       "    </tr>\n",
       "    <tr>\n",
       "      <th>3</th>\n",
       "      <td>1196.0</td>\n",
       "      <td>2400.0</td>\n",
       "    </tr>\n",
       "    <tr>\n",
       "      <th>4</th>\n",
       "      <td>1073.0</td>\n",
       "      <td>2485.0</td>\n",
       "    </tr>\n",
       "  </tbody>\n",
       "</table>\n",
       "</div>"
      ],
      "text/plain": [
       "      F01     H01\n",
       "0  1189.0  2253.0\n",
       "1  1277.0  2362.0\n",
       "2  1283.0  2238.0\n",
       "3  1196.0  2400.0\n",
       "4  1073.0  2485.0"
      ]
     },
     "execution_count": 41,
     "metadata": {},
     "output_type": "execute_result"
    }
   ],
   "source": [
    "#事故位置\n",
    "location_6 = data_6.groupby(\"9事故位置\" and \"車種\").size()\n",
    "location_5 = data_5.groupby(\"9事故位置\" and \"車種\").size()\n",
    "location_3 = data_3.groupby(\"9事故位置\" and \"車種\").size()\n",
    "location_2 = data_2.groupby(\"9事故位置\" and \"車種\").size()\n",
    "location_1 = data_1.groupby(\"9事故位置\" and \"車種\").size()\n",
    "\n",
    "list_c = [location_6,location_5,location_3,location_2,location_1]\n",
    "df_location = pd.DataFrame(list_c)\n",
    "# print(df_location)\n",
    "\n",
    "df_location[['F01',\"H01\"]]"
   ]
  },
  {
   "cell_type": "code",
   "execution_count": 5,
   "metadata": {},
   "outputs": [
    {
     "ename": "KeyError",
     "evalue": "'50'",
     "output_type": "error",
     "traceback": [
      "\u001b[1;31m---------------------------------------------------------------------------\u001b[0m",
      "\u001b[1;31mTypeError\u001b[0m                                 Traceback (most recent call last)",
      "\u001b[1;32mpandas\\_libs\\index.pyx\u001b[0m in \u001b[0;36mpandas._libs.index.IndexEngine.get_loc\u001b[1;34m()\u001b[0m\n",
      "\u001b[1;32mpandas\\_libs\\hashtable_class_helper.pxi\u001b[0m in \u001b[0;36mpandas._libs.hashtable.Float64HashTable.get_item\u001b[1;34m()\u001b[0m\n",
      "\u001b[1;31mTypeError\u001b[0m: must be real number, not str",
      "\nDuring handling of the above exception, another exception occurred:\n",
      "\u001b[1;31mKeyError\u001b[0m                                  Traceback (most recent call last)",
      "\u001b[1;32mC:\\ProgramData\\Anaconda3\\lib\\site-packages\\pandas\\core\\indexes\\base.py\u001b[0m in \u001b[0;36mget_loc\u001b[1;34m(self, key, method, tolerance)\u001b[0m\n\u001b[0;32m   3062\u001b[0m             \u001b[1;32mtry\u001b[0m\u001b[1;33m:\u001b[0m\u001b[1;33m\u001b[0m\u001b[0m\n\u001b[1;32m-> 3063\u001b[1;33m                 \u001b[1;32mreturn\u001b[0m \u001b[0mself\u001b[0m\u001b[1;33m.\u001b[0m\u001b[0m_engine\u001b[0m\u001b[1;33m.\u001b[0m\u001b[0mget_loc\u001b[0m\u001b[1;33m(\u001b[0m\u001b[0mkey\u001b[0m\u001b[1;33m)\u001b[0m\u001b[1;33m\u001b[0m\u001b[0m\n\u001b[0m\u001b[0;32m   3064\u001b[0m             \u001b[1;32mexcept\u001b[0m \u001b[0mKeyError\u001b[0m\u001b[1;33m:\u001b[0m\u001b[1;33m\u001b[0m\u001b[0m\n",
      "\u001b[1;32mpandas\\_libs\\index.pyx\u001b[0m in \u001b[0;36mpandas._libs.index.IndexEngine.get_loc\u001b[1;34m()\u001b[0m\n",
      "\u001b[1;32mpandas\\_libs\\index.pyx\u001b[0m in \u001b[0;36mpandas._libs.index.IndexEngine.get_loc\u001b[1;34m()\u001b[0m\n",
      "\u001b[1;31mKeyError\u001b[0m: '50'",
      "\nDuring handling of the above exception, another exception occurred:\n",
      "\u001b[1;31mTypeError\u001b[0m                                 Traceback (most recent call last)",
      "\u001b[1;32mpandas\\_libs\\index.pyx\u001b[0m in \u001b[0;36mpandas._libs.index.IndexEngine.get_loc\u001b[1;34m()\u001b[0m\n",
      "\u001b[1;32mpandas\\_libs\\hashtable_class_helper.pxi\u001b[0m in \u001b[0;36mpandas._libs.hashtable.Float64HashTable.get_item\u001b[1;34m()\u001b[0m\n",
      "\u001b[1;31mTypeError\u001b[0m: must be real number, not str",
      "\nDuring handling of the above exception, another exception occurred:\n",
      "\u001b[1;31mKeyError\u001b[0m                                  Traceback (most recent call last)",
      "\u001b[1;32m<ipython-input-5-1fe4ef8b73e4>\u001b[0m in \u001b[0;36m<module>\u001b[1;34m()\u001b[0m\n\u001b[0;32m     11\u001b[0m \u001b[0mdf_limit\u001b[0m \u001b[1;33m=\u001b[0m \u001b[0mpd\u001b[0m\u001b[1;33m.\u001b[0m\u001b[0mDataFrame\u001b[0m\u001b[1;33m(\u001b[0m\u001b[0mlist_limit\u001b[0m\u001b[1;33m)\u001b[0m\u001b[1;33m\u001b[0m\u001b[0m\n\u001b[0;32m     12\u001b[0m \u001b[1;31m# print(df_limit)\u001b[0m\u001b[1;33m\u001b[0m\u001b[1;33m\u001b[0m\u001b[0m\n\u001b[1;32m---> 13\u001b[1;33m \u001b[0mdf_limit\u001b[0m\u001b[1;33m[\u001b[0m\u001b[1;34m'50'\u001b[0m\u001b[1;33m]\u001b[0m\u001b[1;33m\u001b[0m\u001b[0m\n\u001b[0m",
      "\u001b[1;32mC:\\ProgramData\\Anaconda3\\lib\\site-packages\\pandas\\core\\frame.py\u001b[0m in \u001b[0;36m__getitem__\u001b[1;34m(self, key)\u001b[0m\n\u001b[0;32m   2683\u001b[0m             \u001b[1;32mreturn\u001b[0m \u001b[0mself\u001b[0m\u001b[1;33m.\u001b[0m\u001b[0m_getitem_multilevel\u001b[0m\u001b[1;33m(\u001b[0m\u001b[0mkey\u001b[0m\u001b[1;33m)\u001b[0m\u001b[1;33m\u001b[0m\u001b[0m\n\u001b[0;32m   2684\u001b[0m         \u001b[1;32melse\u001b[0m\u001b[1;33m:\u001b[0m\u001b[1;33m\u001b[0m\u001b[0m\n\u001b[1;32m-> 2685\u001b[1;33m             \u001b[1;32mreturn\u001b[0m \u001b[0mself\u001b[0m\u001b[1;33m.\u001b[0m\u001b[0m_getitem_column\u001b[0m\u001b[1;33m(\u001b[0m\u001b[0mkey\u001b[0m\u001b[1;33m)\u001b[0m\u001b[1;33m\u001b[0m\u001b[0m\n\u001b[0m\u001b[0;32m   2686\u001b[0m \u001b[1;33m\u001b[0m\u001b[0m\n\u001b[0;32m   2687\u001b[0m     \u001b[1;32mdef\u001b[0m \u001b[0m_getitem_column\u001b[0m\u001b[1;33m(\u001b[0m\u001b[0mself\u001b[0m\u001b[1;33m,\u001b[0m \u001b[0mkey\u001b[0m\u001b[1;33m)\u001b[0m\u001b[1;33m:\u001b[0m\u001b[1;33m\u001b[0m\u001b[0m\n",
      "\u001b[1;32mC:\\ProgramData\\Anaconda3\\lib\\site-packages\\pandas\\core\\frame.py\u001b[0m in \u001b[0;36m_getitem_column\u001b[1;34m(self, key)\u001b[0m\n\u001b[0;32m   2690\u001b[0m         \u001b[1;31m# get column\u001b[0m\u001b[1;33m\u001b[0m\u001b[1;33m\u001b[0m\u001b[0m\n\u001b[0;32m   2691\u001b[0m         \u001b[1;32mif\u001b[0m \u001b[0mself\u001b[0m\u001b[1;33m.\u001b[0m\u001b[0mcolumns\u001b[0m\u001b[1;33m.\u001b[0m\u001b[0mis_unique\u001b[0m\u001b[1;33m:\u001b[0m\u001b[1;33m\u001b[0m\u001b[0m\n\u001b[1;32m-> 2692\u001b[1;33m             \u001b[1;32mreturn\u001b[0m \u001b[0mself\u001b[0m\u001b[1;33m.\u001b[0m\u001b[0m_get_item_cache\u001b[0m\u001b[1;33m(\u001b[0m\u001b[0mkey\u001b[0m\u001b[1;33m)\u001b[0m\u001b[1;33m\u001b[0m\u001b[0m\n\u001b[0m\u001b[0;32m   2693\u001b[0m \u001b[1;33m\u001b[0m\u001b[0m\n\u001b[0;32m   2694\u001b[0m         \u001b[1;31m# duplicate columns & possible reduce dimensionality\u001b[0m\u001b[1;33m\u001b[0m\u001b[1;33m\u001b[0m\u001b[0m\n",
      "\u001b[1;32mC:\\ProgramData\\Anaconda3\\lib\\site-packages\\pandas\\core\\generic.py\u001b[0m in \u001b[0;36m_get_item_cache\u001b[1;34m(self, item)\u001b[0m\n\u001b[0;32m   2484\u001b[0m         \u001b[0mres\u001b[0m \u001b[1;33m=\u001b[0m \u001b[0mcache\u001b[0m\u001b[1;33m.\u001b[0m\u001b[0mget\u001b[0m\u001b[1;33m(\u001b[0m\u001b[0mitem\u001b[0m\u001b[1;33m)\u001b[0m\u001b[1;33m\u001b[0m\u001b[0m\n\u001b[0;32m   2485\u001b[0m         \u001b[1;32mif\u001b[0m \u001b[0mres\u001b[0m \u001b[1;32mis\u001b[0m \u001b[1;32mNone\u001b[0m\u001b[1;33m:\u001b[0m\u001b[1;33m\u001b[0m\u001b[0m\n\u001b[1;32m-> 2486\u001b[1;33m             \u001b[0mvalues\u001b[0m \u001b[1;33m=\u001b[0m \u001b[0mself\u001b[0m\u001b[1;33m.\u001b[0m\u001b[0m_data\u001b[0m\u001b[1;33m.\u001b[0m\u001b[0mget\u001b[0m\u001b[1;33m(\u001b[0m\u001b[0mitem\u001b[0m\u001b[1;33m)\u001b[0m\u001b[1;33m\u001b[0m\u001b[0m\n\u001b[0m\u001b[0;32m   2487\u001b[0m             \u001b[0mres\u001b[0m \u001b[1;33m=\u001b[0m \u001b[0mself\u001b[0m\u001b[1;33m.\u001b[0m\u001b[0m_box_item_values\u001b[0m\u001b[1;33m(\u001b[0m\u001b[0mitem\u001b[0m\u001b[1;33m,\u001b[0m \u001b[0mvalues\u001b[0m\u001b[1;33m)\u001b[0m\u001b[1;33m\u001b[0m\u001b[0m\n\u001b[0;32m   2488\u001b[0m             \u001b[0mcache\u001b[0m\u001b[1;33m[\u001b[0m\u001b[0mitem\u001b[0m\u001b[1;33m]\u001b[0m \u001b[1;33m=\u001b[0m \u001b[0mres\u001b[0m\u001b[1;33m\u001b[0m\u001b[0m\n",
      "\u001b[1;32mC:\\ProgramData\\Anaconda3\\lib\\site-packages\\pandas\\core\\internals.py\u001b[0m in \u001b[0;36mget\u001b[1;34m(self, item, fastpath)\u001b[0m\n\u001b[0;32m   4113\u001b[0m \u001b[1;33m\u001b[0m\u001b[0m\n\u001b[0;32m   4114\u001b[0m             \u001b[1;32mif\u001b[0m \u001b[1;32mnot\u001b[0m \u001b[0misna\u001b[0m\u001b[1;33m(\u001b[0m\u001b[0mitem\u001b[0m\u001b[1;33m)\u001b[0m\u001b[1;33m:\u001b[0m\u001b[1;33m\u001b[0m\u001b[0m\n\u001b[1;32m-> 4115\u001b[1;33m                 \u001b[0mloc\u001b[0m \u001b[1;33m=\u001b[0m \u001b[0mself\u001b[0m\u001b[1;33m.\u001b[0m\u001b[0mitems\u001b[0m\u001b[1;33m.\u001b[0m\u001b[0mget_loc\u001b[0m\u001b[1;33m(\u001b[0m\u001b[0mitem\u001b[0m\u001b[1;33m)\u001b[0m\u001b[1;33m\u001b[0m\u001b[0m\n\u001b[0m\u001b[0;32m   4116\u001b[0m             \u001b[1;32melse\u001b[0m\u001b[1;33m:\u001b[0m\u001b[1;33m\u001b[0m\u001b[0m\n\u001b[0;32m   4117\u001b[0m                 \u001b[0mindexer\u001b[0m \u001b[1;33m=\u001b[0m \u001b[0mnp\u001b[0m\u001b[1;33m.\u001b[0m\u001b[0marange\u001b[0m\u001b[1;33m(\u001b[0m\u001b[0mlen\u001b[0m\u001b[1;33m(\u001b[0m\u001b[0mself\u001b[0m\u001b[1;33m.\u001b[0m\u001b[0mitems\u001b[0m\u001b[1;33m)\u001b[0m\u001b[1;33m)\u001b[0m\u001b[1;33m[\u001b[0m\u001b[0misna\u001b[0m\u001b[1;33m(\u001b[0m\u001b[0mself\u001b[0m\u001b[1;33m.\u001b[0m\u001b[0mitems\u001b[0m\u001b[1;33m)\u001b[0m\u001b[1;33m]\u001b[0m\u001b[1;33m\u001b[0m\u001b[0m\n",
      "\u001b[1;32mC:\\ProgramData\\Anaconda3\\lib\\site-packages\\pandas\\core\\indexes\\numeric.py\u001b[0m in \u001b[0;36mget_loc\u001b[1;34m(self, key, method, tolerance)\u001b[0m\n\u001b[0;32m    417\u001b[0m             \u001b[1;32mpass\u001b[0m\u001b[1;33m\u001b[0m\u001b[0m\n\u001b[0;32m    418\u001b[0m         return super(Float64Index, self).get_loc(key, method=method,\n\u001b[1;32m--> 419\u001b[1;33m                                                  tolerance=tolerance)\n\u001b[0m\u001b[0;32m    420\u001b[0m \u001b[1;33m\u001b[0m\u001b[0m\n\u001b[0;32m    421\u001b[0m     \u001b[1;33m@\u001b[0m\u001b[0mcache_readonly\u001b[0m\u001b[1;33m\u001b[0m\u001b[0m\n",
      "\u001b[1;32mC:\\ProgramData\\Anaconda3\\lib\\site-packages\\pandas\\core\\indexes\\base.py\u001b[0m in \u001b[0;36mget_loc\u001b[1;34m(self, key, method, tolerance)\u001b[0m\n\u001b[0;32m   3063\u001b[0m                 \u001b[1;32mreturn\u001b[0m \u001b[0mself\u001b[0m\u001b[1;33m.\u001b[0m\u001b[0m_engine\u001b[0m\u001b[1;33m.\u001b[0m\u001b[0mget_loc\u001b[0m\u001b[1;33m(\u001b[0m\u001b[0mkey\u001b[0m\u001b[1;33m)\u001b[0m\u001b[1;33m\u001b[0m\u001b[0m\n\u001b[0;32m   3064\u001b[0m             \u001b[1;32mexcept\u001b[0m \u001b[0mKeyError\u001b[0m\u001b[1;33m:\u001b[0m\u001b[1;33m\u001b[0m\u001b[0m\n\u001b[1;32m-> 3065\u001b[1;33m                 \u001b[1;32mreturn\u001b[0m \u001b[0mself\u001b[0m\u001b[1;33m.\u001b[0m\u001b[0m_engine\u001b[0m\u001b[1;33m.\u001b[0m\u001b[0mget_loc\u001b[0m\u001b[1;33m(\u001b[0m\u001b[0mself\u001b[0m\u001b[1;33m.\u001b[0m\u001b[0m_maybe_cast_indexer\u001b[0m\u001b[1;33m(\u001b[0m\u001b[0mkey\u001b[0m\u001b[1;33m)\u001b[0m\u001b[1;33m)\u001b[0m\u001b[1;33m\u001b[0m\u001b[0m\n\u001b[0m\u001b[0;32m   3066\u001b[0m \u001b[1;33m\u001b[0m\u001b[0m\n\u001b[0;32m   3067\u001b[0m         \u001b[0mindexer\u001b[0m \u001b[1;33m=\u001b[0m \u001b[0mself\u001b[0m\u001b[1;33m.\u001b[0m\u001b[0mget_indexer\u001b[0m\u001b[1;33m(\u001b[0m\u001b[1;33m[\u001b[0m\u001b[0mkey\u001b[0m\u001b[1;33m]\u001b[0m\u001b[1;33m,\u001b[0m \u001b[0mmethod\u001b[0m\u001b[1;33m=\u001b[0m\u001b[0mmethod\u001b[0m\u001b[1;33m,\u001b[0m \u001b[0mtolerance\u001b[0m\u001b[1;33m=\u001b[0m\u001b[0mtolerance\u001b[0m\u001b[1;33m)\u001b[0m\u001b[1;33m\u001b[0m\u001b[0m\n",
      "\u001b[1;32mpandas\\_libs\\index.pyx\u001b[0m in \u001b[0;36mpandas._libs.index.IndexEngine.get_loc\u001b[1;34m()\u001b[0m\n",
      "\u001b[1;32mpandas\\_libs\\index.pyx\u001b[0m in \u001b[0;36mpandas._libs.index.IndexEngine.get_loc\u001b[1;34m()\u001b[0m\n",
      "\u001b[1;31mKeyError\u001b[0m: '50'"
     ]
    }
   ],
   "source": [
    "#速限\n",
    "limit_6 = data_6.groupby(\"7速限\").size()\n",
    "limit_5 = data_5.groupby(\"7速限\").size()\n",
    "limit_3 = data_3.groupby(\"7速限\").size()\n",
    "limit_2 = data_2.groupby(\"7速限\").size()\n",
    "limit_1 = data_1.groupby(\"7速限\").size()\n",
    "\n",
    "# limit_6.get(\"50\")\n",
    "\n",
    "list_limit = [limit_6,limit_5,limit_3,limit_2,limit_1]\n",
    "df_limit = pd.DataFrame(list_limit)\n",
    "# print(df_limit)\n",
    "df_limit['50']\n"
   ]
  },
  {
   "cell_type": "code",
   "execution_count": null,
   "metadata": {},
   "outputs": [],
   "source": []
  }
 ],
 "metadata": {
  "kernelspec": {
   "display_name": "Python 3",
   "language": "python",
   "name": "python3"
  },
  "language_info": {
   "codemirror_mode": {
    "name": "ipython",
    "version": 3
   },
   "file_extension": ".py",
   "mimetype": "text/x-python",
   "name": "python",
   "nbconvert_exporter": "python",
   "pygments_lexer": "ipython3",
   "version": "3.6.5"
  }
 },
 "nbformat": 4,
 "nbformat_minor": 2
}

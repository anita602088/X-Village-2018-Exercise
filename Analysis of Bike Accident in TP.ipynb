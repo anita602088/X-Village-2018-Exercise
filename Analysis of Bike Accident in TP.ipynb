{
 "cells": [
  {
   "cell_type": "code",
   "execution_count": 2,
   "metadata": {},
   "outputs": [],
   "source": [
    "#from __future__ import division\n",
    "\n",
    "#import datetime\n",
    "import itertools\n",
    "import json\n",
    "import requests\n",
    "# from requests_html import HTMLSession\n",
    "#import operator\n",
    "\n",
    "\n",
    "import matplotlib.pyplot as plt\n",
    "import numpy as np\n",
    "import pandas as pd\n",
    "import pylab\n",
    "#import scipy.stats\n",
    "#import statsmodels.api as sm\n",
    "\n",
    "%matplotlib inline\n"
   ]
  },
  {
   "cell_type": "code",
   "execution_count": 3,
   "metadata": {},
   "outputs": [],
   "source": [
    "url_6 = 'http://data.taipei/opendata/datalist/datasetMeta/download?id=2f238b4f-1b27-4085-93e9-d684ef0e2735&rid=1948cf36-2df1-4e98-95d7-152d30193d3c'\n",
    "data_6 = pd.read_csv(url_6, encoding='big5')\n",
    "\n",
    "url_5 = 'http://data.taipei/opendata/datalist/datasetMeta/download?id=2f238b4f-1b27-4085-93e9-d684ef0e2735&rid=91fbb8c2-4316-44ac-a101-e7b7ff3ba450'\n",
    "data_5 = pd.read_csv(url_5, encoding='big5')\n",
    "\n",
    "url_4 = 'C:/Users/user/Downloads/104a1a2.csv'\n",
    "data_4 = pd.read_csv(url_4, encoding='utf-8')\n",
    "\n",
    "url_3 = 'http://data.taipei/opendata/datalist/datasetMeta/download?id=2f238b4f-1b27-4085-93e9-d684ef0e2735&rid=5b31590b-1af7-4fed-ac25-6190178acfb5'\n",
    "data_3 = pd.read_csv(url_3, encoding='big5')\n",
    "\n",
    "url_2 = 'http://data.taipei/opendata/datalist/datasetMeta/download?id=2f238b4f-1b27-4085-93e9-d684ef0e2735&rid=c7fc1411-a8f0-4258-9f66-e16e58dd2cdd'\n",
    "data_2 = pd.read_csv(url_2, encoding='big5')\n",
    "\n",
    "url_1 = 'http://data.taipei/opendata/datalist/datasetMeta/download?id=2f238b4f-1b27-4085-93e9-d684ef0e2735&rid=dbc05cbf-cced-4793-84e8-fda5f67200da'\n",
    "data_1 = pd.read_csv(url_1, encoding='big5')\n"
   ]
  },
  {
   "cell_type": "code",
   "execution_count": 22,
   "metadata": {
    "scrolled": true
   },
   "outputs": [
    {
     "name": "stdout",
     "output_type": "stream",
     "text": [
      "    年份   車禍數量  自行車車禍案件\n",
      "0  101  45950     1073\n",
      "1  102  47705     1196\n",
      "2  103  49135     1283\n",
      "3  104  49519     1217\n",
      "4  105  51692     1277\n",
      "5  106  50951     1189\n"
     ]
    }
   ],
   "source": [
    "#自行車車禍數量\n",
    "bike_6 = data_6[\"車種\"] == \"F01\"\n",
    "bike_5 = data_5[\"車種\"] == \"F01\"\n",
    "bike_4 = data_4[\"車種\"] == \"F01\"\n",
    "bike_3 = data_3[\"車種\"] == \"F01\"\n",
    "bike_2 = data_2[\"車種\"] == \"F01\"\n",
    "bike_1 = data_1[\"車種\"] == \"F01\"\n",
    "\n",
    "list_a = [len(data_1[bike_1]),len(data_2[bike_2]),len(data_3[bike_3]),len(data_4[bike_4]),len(data_5[bike_5]),len(data_6[bike_6])]\n",
    "list_t = [len(data_1),len(data_2),len(data_3),len(data_4),len(data_5),len(data_6)]\n",
    "data = ['101','102','103','104','105','106']\n",
    "dict_t = {\"年份\":data,'車禍數量':list_t}\n",
    "dict_a = {\"年份\":data,\"自行車車禍案件\":list_a}\n",
    "\n",
    "df_t = pd.DataFrame(dict_t)\n",
    "df_a = pd.DataFrame(dict_a)\n",
    "result = df_t.merge(df_a)\n",
    "\n",
    "print(result)"
   ]
  },
  {
   "cell_type": "code",
   "execution_count": 14,
   "metadata": {},
   "outputs": [
    {
     "data": {
      "image/png": "[encoded data removed]",
      "text/plain": [
       "<Figure size 432x288 with 1 Axes>"
      ]
     },
     "metadata": {},
     "output_type": "display_data"
    }
   ],
   "source": [
    "#自行車車禍數量\n",
    "\n",
    "%matplotlib inline\n",
    "import matplotlib.pyplot as plt\n",
    "import numpy as np\n",
    "y1 = list_a\n",
    "x1 = ['101年','102年','103年','104年','105年','106年']\n",
    "plt.xlabel(\"Years\")\n",
    "plt.ylabel(\"Number\")\n",
    "plt.title('Number of Bicycle Accidents')\n",
    "\n",
    "plt.bar(x1,y1,color = \"c\")\n",
    "plt.show()"
   ]
  },
  {
   "cell_type": "code",
   "execution_count": 21,
   "metadata": {},
   "outputs": [
    {
     "name": "stdout",
     "output_type": "stream",
     "text": [
      "0    1767106\n",
      "1    1938518\n",
      "2    2065266\n",
      "3    1662426\n",
      "4    1242340\n",
      "5    1582565\n",
      "6    1719024\n",
      "7    1900724\n",
      "8    2191938\n",
      "Name:   租借次數(車次), dtype: int64\n"
     ]
    }
   ],
   "source": [
    "url = 'C:/Users/user/Desktop/ubike_num.csv'\n",
    "num = pd.read_csv(url, encoding = 'big5')\n",
    "# location = num.groupby('租借次數(車次)').size()\n",
    "num.dropna()\n",
    "# a = num.get(\"租借次數(車次)\")\n",
    "# print(a)\n",
    "# print(num)\n",
    "n = num.iloc[0:9,1]\n",
    "m = num.iloc[0:9,0]\n",
    "\n",
    "series_n =  pd.Series(n)\n",
    "series_m = pd.Series(m)\n",
    "print(series_n)\n"
   ]
  },
  {
   "cell_type": "code",
   "execution_count": 23,
   "metadata": {},
   "outputs": [
    {
     "data": {
      "image/png": "[encoded data removed]",
      "text/plain": [
       "<Figure size 432x288 with 1 Axes>"
      ]
     },
     "metadata": {},
     "output_type": "display_data"
    }
   ],
   "source": [
    "%matplotlib inline\n",
    "import matplotlib.pyplot as plt\n",
    "import numpy as np\n",
    "y1 = listn\n",
    "x1 = listm\n",
    "plt.xlabel(\"Date\")\n",
    "plt.ylabel(\"Number\")\n",
    "\n",
    "plt.plot(x1,y1)\n",
    "plt.show()\n"
   ]
  },
  {
   "cell_type": "code",
   "execution_count": 32,
   "metadata": {},
   "outputs": [
    {
     "name": "stdout",
     "output_type": "stream",
     "text": [
      "[2485, 2400, 2238, 2152, 2362, 2253]\n"
     ]
    }
   ],
   "source": [
    "ped_6 = data_6[\"車種\"] == \"H01\"\n",
    "ped_5 = data_5[\"車種\"] == \"H01\"\n",
    "ped_4 = data_4[\"車種\"] == \"H01\"\n",
    "ped_3 = data_3[\"車種\"] == \"H01\"\n",
    "ped_2 = data_2[\"車種\"] == \"H01\"\n",
    "ped_1 = data_1[\"車種\"] == \"H01\"\n",
    "\n",
    "b6 = len(data_6[ped_6])\n",
    "b5 = len(data_5[ped_5])\n",
    "b4 = len(data_4[ped_4])\n",
    "b3 = len(data_3[ped_3])\n",
    "b2 = len(data_2[ped_2])\n",
    "b1 = len(data_1[ped_1])\n",
    "\n",
    "list_b = [b1,b2,b3,b4,b5,b6]\n",
    "\n",
    "print(list_b)"
   ]
  },
  {
   "cell_type": "code",
   "execution_count": 33,
   "metadata": {
    "scrolled": true
   },
   "outputs": [
    {
     "data": {
      "image/png": "[encoded data removed]",
      "text/plain": [
       "<Figure size 432x288 with 1 Axes>"
      ]
     },
     "metadata": {},
     "output_type": "display_data"
    }
   ],
   "source": [
    "%matplotlib inline\n",
    "import matplotlib.pyplot as plt\n",
    "import numpy as np\n",
    "y1 = list_b\n",
    "x1 = ['101','102','103','104','105','106']\n",
    "plt.bar(x1,y1,color = \"pink\")\n",
    "plt.show()"
   ]
  },
  {
   "cell_type": "code",
   "execution_count": 43,
   "metadata": {},
   "outputs": [
    {
     "data": {
      "text/plain": [
       "0    1189.0\n",
       "1    1277.0\n",
       "2    1283.0\n",
       "3    1196.0\n",
       "4    1073.0\n",
       "Name: F01, dtype: float64"
      ]
     },
     "execution_count": 43,
     "metadata": {},
     "output_type": "execute_result"
    }
   ],
   "source": [
    "#事故位置\n",
    "location_6 = data_6.groupby(\"9事故位置\" and \"車種\").size()\n",
    "location_5 = data_5.groupby(\"9事故位置\" and \"車種\").size()\n",
    "location_3 = data_3.groupby(\"9事故位置\" and \"車種\").size()\n",
    "location_2 = data_2.groupby(\"9事故位置\" and \"車種\").size()\n",
    "location_1 = data_1.groupby(\"9事故位置\" and \"車種\").size()\n",
    "\n",
    "list_c = [location_6,location_5,location_3,location_2,location_1]\n",
    "df_location = pd.DataFrame(list_c)\n",
    "# print(df_location)\n",
    "df_location['F01']"
   ]
  },
  {
   "cell_type": "code",
   "execution_count": 27,
   "metadata": {},
   "outputs": [
    {
     "ename": "ValueError",
     "evalue": "The truth value of a Series is ambiguous. Use a.empty, a.bool(), a.item(), a.any() or a.all().",
     "output_type": "error",
     "traceback": [
      "\u001b[1;31m---------------------------------------------------------------------------\u001b[0m",
      "\u001b[1;31mValueError\u001b[0m                                Traceback (most recent call last)",
      "\u001b[1;32m<ipython-input-27-e8c9c18231f2>\u001b[0m in \u001b[0;36m<module>\u001b[1;34m()\u001b[0m\n\u001b[0;32m      9\u001b[0m \u001b[0mdf_limit\u001b[0m \u001b[1;33m=\u001b[0m \u001b[0mpd\u001b[0m\u001b[1;33m.\u001b[0m\u001b[0mDataFrame\u001b[0m\u001b[1;33m(\u001b[0m\u001b[0mlist_limit\u001b[0m\u001b[1;33m)\u001b[0m\u001b[1;33m\u001b[0m\u001b[0m\n\u001b[0;32m     10\u001b[0m \u001b[1;31m# print(df_limit)\u001b[0m\u001b[1;33m\u001b[0m\u001b[1;33m\u001b[0m\u001b[0m\n\u001b[1;32m---> 11\u001b[1;33m \u001b[0mdf_limit\u001b[0m\u001b[1;33m[\u001b[0m\u001b[1;34m'F01'\u001b[0m\u001b[1;33m]\u001b[0m \u001b[1;32mand\u001b[0m \u001b[1;33m[\u001b[0m\u001b[1;34m\"A02\"\u001b[0m\u001b[1;33m]\u001b[0m\u001b[1;33m.\u001b[0m\u001b[0mall\u001b[0m\u001b[1;33m(\u001b[0m\u001b[1;33m)\u001b[0m\u001b[1;33m\u001b[0m\u001b[0m\n\u001b[0m",
      "\u001b[1;32mC:\\ProgramData\\Anaconda3\\lib\\site-packages\\pandas\\core\\generic.py\u001b[0m in \u001b[0;36m__nonzero__\u001b[1;34m(self)\u001b[0m\n\u001b[0;32m   1571\u001b[0m         raise ValueError(\"The truth value of a {0} is ambiguous. \"\n\u001b[0;32m   1572\u001b[0m                          \u001b[1;34m\"Use a.empty, a.bool(), a.item(), a.any() or a.all().\"\u001b[0m\u001b[1;33m\u001b[0m\u001b[0m\n\u001b[1;32m-> 1573\u001b[1;33m                          .format(self.__class__.__name__))\n\u001b[0m\u001b[0;32m   1574\u001b[0m \u001b[1;33m\u001b[0m\u001b[0m\n\u001b[0;32m   1575\u001b[0m     \u001b[0m__bool__\u001b[0m \u001b[1;33m=\u001b[0m \u001b[0m__nonzero__\u001b[0m\u001b[1;33m\u001b[0m\u001b[0m\n",
      "\u001b[1;31mValueError\u001b[0m: The truth value of a Series is ambiguous. Use a.empty, a.bool(), a.item(), a.any() or a.all()."
     ]
    }
   ],
   "source": [
    "#速限\n",
    "limit_6 = data_6.groupby(\"7速限\" and \"車種\").size()\n",
    "limit_5 = data_5.groupby(\"7速限\" and \"車種\").size()\n",
    "limit_3 = data_3.groupby(\"7速限\" and \"車種\").size()\n",
    "limit_2 = data_2.groupby(\"7速限\" and \"車種\").size()\n",
    "limit_1 = data_1.groupby(\"7速限\" and \"車種\").size()\n",
    "\n",
    "list_limit = [limit_6,limit_5,limit_3,limit_2,limit_1]\n",
    "df_limit = pd.DataFrame(list_limit)\n",
    "# print(df_limit)\n",
    "df_limit['F01']\n"
   ]
  },
  {
   "cell_type": "code",
   "execution_count": null,
   "metadata": {},
   "outputs": [],
   "source": []
  }
 ],
 "metadata": {
  "kernelspec": {
   "display_name": "Python 3",
   "language": "python",
   "name": "python3"
  },
  "language_info": {
   "codemirror_mode": {
    "name": "ipython",
    "version": 3
   },
   "file_extension": ".py",
   "mimetype": "text/x-python",
   "name": "python",
   "nbconvert_exporter": "python",
   "pygments_lexer": "ipython3",
   "version": "3.6.5"
  }
 },
 "nbformat": 4,
 "nbformat_minor": 2
}
